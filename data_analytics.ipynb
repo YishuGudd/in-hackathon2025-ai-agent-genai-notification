{
 "cells": [
  {
   "cell_type": "markdown",
   "metadata": {},
   "source": [
    "# Snowflake Data Analytics Notebook\n",
    "This notebook demonstrates how to connect to Snowflake and perform data analytics operations with SSO authentication.\n"
   ]
  },
  {
   "cell_type": "markdown",
   "metadata": {},
   "source": [
    "## 1. Setup and Imports\n",
    "\n",
    "**Run this cell first!**\n"
   ]
  },
  {
   "cell_type": "code",
   "execution_count": 1,
   "metadata": {},
   "outputs": [
    {
     "name": "stdout",
     "output_type": "stream",
     "text": [
      "✅ Imports successful!\n"
     ]
    }
   ],
   "source": [
    "import pandas as pd\n",
    "import numpy as np\n",
    "import matplotlib.pyplot as plt\n",
    "import seaborn as sns\n",
    "import plotly.express as px\n",
    "from snowflake_connector import SnowflakeConnector\n",
    "\n",
    "# Set visualization style\n",
    "sns.set_style('whitegrid')\n",
    "plt.rcParams['figure.figsize'] = (12, 6)\n",
    "\n",
    "# Display settings\n",
    "pd.set_option('display.max_columns', None)\n",
    "pd.set_option('display.max_rows', 100)\n",
    "\n",
    "print(\"✅ Imports successful!\")\n"
   ]
  },
  {
   "cell_type": "markdown",
   "metadata": {},
   "source": [
    "## 2. Connect to Snowflake (SSO)\n",
    "\n",
    "**IMPORTANT:** Run this cell and complete the browser SSO login before proceeding!\n"
   ]
  },
  {
   "cell_type": "code",
   "execution_count": 2,
   "metadata": {},
   "outputs": [
    {
     "name": "stderr",
     "output_type": "stream",
     "text": [
      "INFO:snowflake_connector:Using SSO authentication (external browser)\n",
      "INFO:snowflake_connector:Opening browser for SSO authentication...\n",
      "INFO:snowflake.connector.connection:Snowflake Connector for Python Version: 3.12.2, Python Version: 3.13.3, Platform: macOS-26.0.1-arm64-arm-64bit-Mach-O\n",
      "INFO:snowflake.connector.connection:Connecting to GLOBAL Snowflake domain\n",
      "INFO:snowflake.connector.connection:This connection is in OCSP Fail Open Mode. TLS Certificates would be checked for validity and revocation status. Any other Certificate Revocation related exceptions or OCSP Responder failures would be disregarded in favor of connectivity.\n"
     ]
    },
    {
     "name": "stdout",
     "output_type": "stream",
     "text": [
      "⏳ Connecting to Snowflake...\n",
      "🌐 A browser window will open for SSO login...\n",
      "   Please complete the authentication in your browser.\n",
      "\n",
      "Initiating login request with your identity provider. A browser window should have opened for you to complete the login. If you can't see it, check existing browser windows, or your OS settings. Press CTRL+C to abort and try again...\n",
      "Going to open: https://doordash.okta.com/app/snowflake/exkkgmn09wbgWonqa0x7/sso/saml?SAMLRequest=jZJBb%2BIwEIX%2FSuQ9EzspFa0FVClZ1GwpRBBaaW8mMeAmsYPHIXR%2F%2FTqhrLqHVr1Z4%2Ffsb%2BbN8O5UFs6RaxBKjpDnEuRwmapMyN0IrZNp7wY5YJjMWKEkH6E3DuhuPARWFhUNarOXS36oORjHPiSBdhcjVGtJFQMBVLKSAzUpXQVPM%2Bq7hFZaGZWqAn2wfO1gAFwbS3ixZCAs3t6YimLcNI3bXLlK77BPCMHkFltVK%2Flx0Z9sT5%2FoPUz6rd4qrDx%2BZ7sX8jyCr7A2ZxHQhySJe%2FFilSAnuKBOlIS65HrF9VGkfL2cnQHAEoSLxTIMVg8uSNVsC5bzVJVVbexjrj3hLc9woXbC9huFI1TlInvKD%2F2Qsc1kOtk%2FPv46bqM%2Fm9cynt9fVa%2FrJHjhx4GOf86iwZykyHm%2BBOq3gUYANY9kG6OxJeJf9zzS864Tn1Di0f6NS3zvN3JCG6OQzHTOC2umlM4Y7F2VG9bRsarC%2F8AxP%2BX5rpTkttnsXpQ8MHIaYACF21jReVNoR6DH3%2Bx%2FiD%2Ba3ndtbscfhbEqRPrmTJUumfk8Hc%2F1uorIettOSnnJRBFkmeYANqWiUM1Ec2bsShtdc4TH51%2F%2FX%2BrxXw%3D%3D&RelayState=ver%3A1-hint%3A28300863763246-ETMsDgAAAZnpduf1ABRBRVMvQ0JDL1BLQ1M1UGFkZGluZwEAABAAEOEfVFsMg1QXzwdWppHKvaMAAACQ0grn%2B1hva99aOEeRWqQ0nvg%2BCFMBrSACKN1Y8YkUiitnztBLCaWGqs11KAdPfo%2FYOXOBEXh1tT%2BI8VBYGjUVIrQq9G4N9993i1BiYcnWzUE42P1AcJhg85PTzCXC2tzWr8jshECAPR%2BK3rBXX3qcOHh%2BYGPFU9jrvN9dlMkpjXa8zap4TfUxCKSrrguHrpahABTWN6RLDaCbi%2BLpY3HtlhgJTmNuqg%3D%3D to authenticate...\n"
     ]
    },
    {
     "name": "stderr",
     "output_type": "stream",
     "text": [
      "INFO:snowflake_connector:Successfully connected to Snowflake\n"
     ]
    },
    {
     "name": "stdout",
     "output_type": "stream",
     "text": [
      "✅ Successfully connected to Snowflake!\n",
      "   You can now run queries!\n"
     ]
    }
   ],
   "source": [
    "# Initialize connection (uses .env file configuration)\n",
    "# For SSO: Make sure SNOWFLAKE_AUTHENTICATOR=externalbrowser in your .env file\n",
    "sf = SnowflakeConnector()\n",
    "\n",
    "# Connect to Snowflake - browser will open for SSO authentication\n",
    "print(\"⏳ Connecting to Snowflake...\")\n",
    "print(\"🌐 A browser window will open for SSO login...\")\n",
    "print(\"   Please complete the authentication in your browser.\")\n",
    "print()\n",
    "\n",
    "if sf.connect():\n",
    "    print(\"✅ Successfully connected to Snowflake!\")\n",
    "    print(\"   You can now run queries!\")\n",
    "else:\n",
    "    print(\"❌ Failed to connect to Snowflake.\")\n",
    "    print(\"   Please check your .env file and credentials.\")\n",
    "    print(\"   See SETUP_FOR_SSO.md for help.\")\n"
   ]
  },
  {
   "cell_type": "markdown",
   "metadata": {},
   "source": [
    "## 3. Verify Connection\n",
    "\n",
    "Check that you're connected and see your current Snowflake context.\n"
   ]
  },
  {
   "cell_type": "code",
   "execution_count": 3,
   "metadata": {},
   "outputs": [
    {
     "name": "stderr",
     "output_type": "stream",
     "text": [
      "INFO:snowflake.connector.cursor:Number of results in first chunk: 1\n",
      "INFO:snowflake_connector:Query returned DataFrame with shape (1, 6)\n"
     ]
    },
    {
     "name": "stdout",
     "output_type": "stream",
     "text": [
      "📊 Your Snowflake Connection Info:\n",
      "============================================================\n",
      "CURRENT_TIME: 2025-10-15 20:01:59.724000+00:00\n",
      "USER: YISHU.GU\n",
      "DATABASE: PRODDB\n",
      "SCHEMA: PUBLIC\n",
      "WAREHOUSE: ADHOC\n",
      "ROLE: YISHUGU\n",
      "============================================================\n"
     ]
    }
   ],
   "source": [
    "# Verify connection and show current context\n",
    "query = \"\"\"\n",
    "SELECT \n",
    "    CURRENT_TIMESTAMP() as current_time,\n",
    "    CURRENT_USER() as user,\n",
    "    CURRENT_DATABASE() as database,\n",
    "    CURRENT_SCHEMA() as schema,\n",
    "    CURRENT_WAREHOUSE() as warehouse,\n",
    "    CURRENT_ROLE() as role\n",
    "\"\"\"\n",
    "df_info = sf.query_to_dataframe(query)\n",
    "print(\"📊 Your Snowflake Connection Info:\")\n",
    "print(\"=\" * 60)\n",
    "for col in df_info.columns:\n",
    "    print(f\"{col.upper()}: {df_info[col].iloc[0]}\")\n",
    "print(\"=\" * 60)\n"
   ]
  },
  {
   "cell_type": "markdown",
   "metadata": {},
   "source": [
    "## 4. Query Your Data\n",
    "\n",
    "Now you can run queries! Here's your FACT_DEDUP_EXPERIMENT_EXPOSURE table query.\n"
   ]
  },
  {
   "cell_type": "code",
   "execution_count": 4,
   "metadata": {},
   "outputs": [
    {
     "name": "stdout",
     "output_type": "stream",
     "text": [
      "🔍 Running query...\n"
     ]
    },
    {
     "name": "stderr",
     "output_type": "stream",
     "text": [
      "INFO:snowflake.connector.cursor:Number of results in first chunk: 10\n",
      "INFO:snowflake_connector:Query returned DataFrame with shape (10, 17)\n"
     ]
    },
    {
     "name": "stdout",
     "output_type": "stream",
     "text": [
      "✅ Retrieved 10 rows with 17 columns\n",
      "\n"
     ]
    },
    {
     "data": {
      "text/html": [
       "<div>\n",
       "<style scoped>\n",
       "    .dataframe tbody tr th:only-of-type {\n",
       "        vertical-align: middle;\n",
       "    }\n",
       "\n",
       "    .dataframe tbody tr th {\n",
       "        vertical-align: top;\n",
       "    }\n",
       "\n",
       "    .dataframe thead th {\n",
       "        text-align: right;\n",
       "    }\n",
       "</style>\n",
       "<table border=\"1\" class=\"dataframe\">\n",
       "  <thead>\n",
       "    <tr style=\"text-align: right;\">\n",
       "      <th></th>\n",
       "      <th>EXPERIMENT_NAME</th>\n",
       "      <th>EXPERIMENT_VERSION</th>\n",
       "      <th>BUCKET_KEY</th>\n",
       "      <th>RESULT</th>\n",
       "      <th>TAG</th>\n",
       "      <th>SEGMENT</th>\n",
       "      <th>CUSTOM_DISTRIBUTION</th>\n",
       "      <th>EXPOSURE_TIME</th>\n",
       "      <th>EVENT_SENT_AT</th>\n",
       "      <th>DEDUPLICATED_AT</th>\n",
       "      <th>EVENT_COUNT</th>\n",
       "      <th>BUCKET_KEY_TYPE</th>\n",
       "      <th>CALLING_CONTEXT</th>\n",
       "      <th>CUSTOM_ATTRIBUTES</th>\n",
       "      <th>RECEIVED_AT</th>\n",
       "      <th>RESOLUTION_LOG</th>\n",
       "      <th>SERVICE</th>\n",
       "    </tr>\n",
       "  </thead>\n",
       "  <tbody>\n",
       "    <tr>\n",
       "      <th>0</th>\n",
       "      <td>enable_reorder_info_in_preview_response</td>\n",
       "      <td>1</td>\n",
       "      <td>94501336</td>\n",
       "      <td>true</td>\n",
       "      <td>treatment</td>\n",
       "      <td>unset_segment</td>\n",
       "      <td>None</td>\n",
       "      <td>2023-01-16 02:46:17.916</td>\n",
       "      <td>2023-01-16 02:46:17.917</td>\n",
       "      <td>2023-01-17 08:02:56.073</td>\n",
       "      <td>8</td>\n",
       "      <td>None</td>\n",
       "      <td>None</td>\n",
       "      <td>None</td>\n",
       "      <td>None</td>\n",
       "      <td>None</td>\n",
       "      <td>None</td>\n",
       "    </tr>\n",
       "    <tr>\n",
       "      <th>1</th>\n",
       "      <td>enable_nv_flat_fee_exp_v2</td>\n",
       "      <td>5</td>\n",
       "      <td>157716490</td>\n",
       "      <td>control</td>\n",
       "      <td>control</td>\n",
       "      <td>unset_segment</td>\n",
       "      <td>None</td>\n",
       "      <td>2023-01-16 22:51:10.425</td>\n",
       "      <td>2023-01-16 22:51:10.426</td>\n",
       "      <td>2023-01-17 08:02:56.073</td>\n",
       "      <td>9</td>\n",
       "      <td>None</td>\n",
       "      <td>None</td>\n",
       "      <td>None</td>\n",
       "      <td>None</td>\n",
       "      <td>None</td>\n",
       "      <td>None</td>\n",
       "    </tr>\n",
       "    <tr>\n",
       "      <th>2</th>\n",
       "      <td>enable_retail_hsa_fsa_item_tagging</td>\n",
       "      <td>1</td>\n",
       "      <td>1202394201</td>\n",
       "      <td>treatment</td>\n",
       "      <td>treatment</td>\n",
       "      <td>All Users</td>\n",
       "      <td>Equal Weights</td>\n",
       "      <td>2023-01-16 03:37:16.967</td>\n",
       "      <td>2023-01-16 03:37:16.967</td>\n",
       "      <td>2023-01-17 08:02:56.073</td>\n",
       "      <td>1</td>\n",
       "      <td>None</td>\n",
       "      <td>None</td>\n",
       "      <td>None</td>\n",
       "      <td>None</td>\n",
       "      <td>None</td>\n",
       "      <td>None</td>\n",
       "    </tr>\n",
       "    <tr>\n",
       "      <th>3</th>\n",
       "      <td>enable_gift_tracking_iterable_campaigns</td>\n",
       "      <td>1</td>\n",
       "      <td>886289438</td>\n",
       "      <td>true</td>\n",
       "      <td>treatment</td>\n",
       "      <td>unset_segment</td>\n",
       "      <td>None</td>\n",
       "      <td>2023-01-16 17:26:41.861</td>\n",
       "      <td>2023-01-16 17:26:41.862</td>\n",
       "      <td>2023-01-17 08:02:56.073</td>\n",
       "      <td>2</td>\n",
       "      <td>None</td>\n",
       "      <td>None</td>\n",
       "      <td>None</td>\n",
       "      <td>None</td>\n",
       "      <td>None</td>\n",
       "      <td>None</td>\n",
       "    </tr>\n",
       "    <tr>\n",
       "      <th>4</th>\n",
       "      <td>enable_log_for_effective_tax_category_compare</td>\n",
       "      <td>1</td>\n",
       "      <td>1673840562160</td>\n",
       "      <td>true</td>\n",
       "      <td>true</td>\n",
       "      <td>unset_segment</td>\n",
       "      <td>None</td>\n",
       "      <td>2023-01-16 03:42:42.160</td>\n",
       "      <td>2023-01-16 03:42:42.227</td>\n",
       "      <td>2023-01-17 08:02:56.073</td>\n",
       "      <td>1</td>\n",
       "      <td>None</td>\n",
       "      <td>None</td>\n",
       "      <td>None</td>\n",
       "      <td>None</td>\n",
       "      <td>None</td>\n",
       "      <td>None</td>\n",
       "    </tr>\n",
       "  </tbody>\n",
       "</table>\n",
       "</div>"
      ],
      "text/plain": [
       "                                 EXPERIMENT_NAME  EXPERIMENT_VERSION  \\\n",
       "0        enable_reorder_info_in_preview_response                   1   \n",
       "1                      enable_nv_flat_fee_exp_v2                   5   \n",
       "2             enable_retail_hsa_fsa_item_tagging                   1   \n",
       "3        enable_gift_tracking_iterable_campaigns                   1   \n",
       "4  enable_log_for_effective_tax_category_compare                   1   \n",
       "\n",
       "      BUCKET_KEY     RESULT        TAG        SEGMENT CUSTOM_DISTRIBUTION  \\\n",
       "0       94501336       true  treatment  unset_segment                None   \n",
       "1      157716490    control    control  unset_segment                None   \n",
       "2     1202394201  treatment  treatment      All Users       Equal Weights   \n",
       "3      886289438       true  treatment  unset_segment                None   \n",
       "4  1673840562160       true       true  unset_segment                None   \n",
       "\n",
       "            EXPOSURE_TIME           EVENT_SENT_AT         DEDUPLICATED_AT  \\\n",
       "0 2023-01-16 02:46:17.916 2023-01-16 02:46:17.917 2023-01-17 08:02:56.073   \n",
       "1 2023-01-16 22:51:10.425 2023-01-16 22:51:10.426 2023-01-17 08:02:56.073   \n",
       "2 2023-01-16 03:37:16.967 2023-01-16 03:37:16.967 2023-01-17 08:02:56.073   \n",
       "3 2023-01-16 17:26:41.861 2023-01-16 17:26:41.862 2023-01-17 08:02:56.073   \n",
       "4 2023-01-16 03:42:42.160 2023-01-16 03:42:42.227 2023-01-17 08:02:56.073   \n",
       "\n",
       "   EVENT_COUNT BUCKET_KEY_TYPE CALLING_CONTEXT CUSTOM_ATTRIBUTES RECEIVED_AT  \\\n",
       "0            8            None            None              None        None   \n",
       "1            9            None            None              None        None   \n",
       "2            1            None            None              None        None   \n",
       "3            2            None            None              None        None   \n",
       "4            1            None            None              None        None   \n",
       "\n",
       "  RESOLUTION_LOG SERVICE  \n",
       "0           None    None  \n",
       "1           None    None  \n",
       "2           None    None  \n",
       "3           None    None  \n",
       "4           None    None  "
      ]
     },
     "execution_count": 4,
     "metadata": {},
     "output_type": "execute_result"
    }
   ],
   "source": [
    "# Query from FACT_DEDUP_EXPERIMENT_EXPOSURE table\n",
    "query = \"\"\"\n",
    "SELECT * \n",
    "FROM PRODDB.PUBLIC.FACT_DEDUP_EXPERIMENT_EXPOSURE \n",
    "LIMIT 10\n",
    "\"\"\"\n",
    "\n",
    "print(\"🔍 Running query...\")\n",
    "df = sf.query_to_dataframe(query)\n",
    "print(f\"✅ Retrieved {len(df)} rows with {len(df.columns)} columns\")\n",
    "print()\n",
    "df.head()\n"
   ]
  },
  {
   "cell_type": "markdown",
   "metadata": {},
   "source": [
    "## 5. Explore Your Data\n",
    "\n",
    "Let's look at the data structure and basic statistics.\n"
   ]
  },
  {
   "cell_type": "code",
   "execution_count": null,
   "metadata": {},
   "outputs": [],
   "source": [
    "# Show column names and types\n",
    "print(\"📋 Column Information:\")\n",
    "print(\"=\" * 60)\n",
    "for col in df.columns:\n",
    "    print(f\"{col}: {df[col].dtype}\")\n",
    "print(\"=\" * 60)\n",
    "print(f\"\\nDataFrame shape: {df.shape}\")\n"
   ]
  },
  {
   "cell_type": "code",
   "execution_count": null,
   "metadata": {},
   "outputs": [],
   "source": [
    "# Basic statistics for numeric columns\n",
    "df.describe()\n"
   ]
  },
  {
   "cell_type": "code",
   "execution_count": null,
   "metadata": {},
   "outputs": [],
   "source": [
    "# Check for missing values\n",
    "print(\"Missing values per column:\")\n",
    "df.isnull().sum()\n"
   ]
  },
  {
   "cell_type": "markdown",
   "metadata": {},
   "source": [
    "## 6. Custom Queries\n",
    "\n",
    "Add your own SQL queries here!\n"
   ]
  },
  {
   "cell_type": "code",
   "execution_count": null,
   "metadata": {},
   "outputs": [],
   "source": [
    "# Example: Your custom query\n",
    "# Uncomment and modify as needed\n",
    "# custom_query = \"\"\"\n",
    "# SELECT \n",
    "#     column1,\n",
    "#     COUNT(*) as count\n",
    "# FROM PRODDB.PUBLIC.FACT_DEDUP_EXPERIMENT_EXPOSURE\n",
    "# GROUP BY column1\n",
    "# ORDER BY count DESC\n",
    "# LIMIT 20\n",
    "# \"\"\"\n",
    "# df_custom = sf.query_to_dataframe(custom_query)\n",
    "# df_custom\n"
   ]
  },
  {
   "cell_type": "markdown",
   "metadata": {},
   "source": [
    "## 7. Data Visualization\n",
    "\n",
    "Create visualizations of your data.\n"
   ]
  },
  {
   "cell_type": "code",
   "execution_count": null,
   "metadata": {},
   "outputs": [],
   "source": [
    "# Example: Bar chart (uncomment and modify column name)\n",
    "# plt.figure(figsize=(12, 6))\n",
    "# df['your_column'].value_counts().head(10).plot(kind='bar')\n",
    "# plt.title('Top 10 Values')\n",
    "# plt.xlabel('Category')\n",
    "# plt.ylabel('Count')\n",
    "# plt.xticks(rotation=45)\n",
    "# plt.tight_layout()\n",
    "# plt.show()\n"
   ]
  },
  {
   "cell_type": "markdown",
   "metadata": {},
   "source": [
    "## 8. Export Results\n",
    "\n",
    "Save your query results to files.\n"
   ]
  },
  {
   "cell_type": "code",
   "execution_count": null,
   "metadata": {},
   "outputs": [],
   "source": [
    "# Export to CSV\n",
    "# df.to_csv('experiment_exposure_data.csv', index=False)\n",
    "# print(\"✅ Data exported to experiment_exposure_data.csv\")\n"
   ]
  },
  {
   "cell_type": "markdown",
   "metadata": {},
   "source": [
    "## 9. Close Connection\n",
    "\n",
    "When you're done, close the Snowflake connection.\n"
   ]
  },
  {
   "cell_type": "code",
   "execution_count": null,
   "metadata": {},
   "outputs": [],
   "source": [
    "# Close the Snowflake connection\n",
    "sf.close()\n",
    "print(\"✅ Connection closed\")\n"
   ]
  },
  {
   "cell_type": "markdown",
   "metadata": {},
   "source": [
    "# Snowflake Data Analytics Notebook\n",
    "This notebook demonstrates how to connect to Snowflake and perform data analytics operations.\n"
   ]
  },
  {
   "cell_type": "markdown",
   "metadata": {},
   "source": [
    "## 1. Setup and Imports\n"
   ]
  },
  {
   "cell_type": "code",
   "execution_count": null,
   "metadata": {},
   "outputs": [],
   "source": [
    "import pandas as pd\n",
    "import numpy as np\n",
    "import matplotlib.pyplot as plt\n",
    "import seaborn as sns\n",
    "import plotly.express as px\n",
    "from snowflake_connector import SnowflakeConnector\n",
    "\n",
    "# Set visualization style\n",
    "sns.set_style('whitegrid')\n",
    "plt.rcParams['figure.figsize'] = (12, 6)\n",
    "\n",
    "# Display settings\n",
    "pd.set_option('display.max_columns', None)\n",
    "pd.set_option('display.max_rows', 100)\n",
    "\n",
    "print(\"✅ Imports successful!\")\n"
   ]
  },
  {
   "cell_type": "markdown",
   "metadata": {},
   "source": [
    "## 2. Connect to Snowflake\n"
   ]
  },
  {
   "cell_type": "code",
   "execution_count": null,
   "metadata": {},
   "outputs": [],
   "source": [
    "# Initialize connection (uses .env file configuration)\n",
    "# For SSO: Make sure SNOWFLAKE_AUTHENTICATOR=externalbrowser in your .env file\n",
    "# A browser window will open for SSO authentication\n",
    "sf = SnowflakeConnector()\n",
    "\n",
    "# Connect to Snowflake\n",
    "print(\"⏳ Connecting to Snowflake...\")\n",
    "if sf.connect():\n",
    "    print(\"✅ Successfully connected to Snowflake!\")\n",
    "    print(\"(If using SSO, you should have completed login in your browser)\")\n",
    "else:\n",
    "    print(\"❌ Failed to connect to Snowflake. Please check your credentials.\")\n"
   ]
  },
  {
   "cell_type": "markdown",
   "metadata": {},
   "source": [
    "## 3. Explore Available Tables\n"
   ]
  },
  {
   "cell_type": "code",
   "execution_count": null,
   "metadata": {},
   "outputs": [],
   "source": [
    "# List all available tables\n",
    "tables = sf.list_tables()\n",
    "print(f\"Found {len(tables)} tables:\")\n",
    "tables\n"
   ]
  },
  {
   "cell_type": "markdown",
   "metadata": {},
   "source": [
    "## 4. Query Data from Snowflake\n"
   ]
  },
  {
   "cell_type": "code",
   "execution_count": null,
   "metadata": {},
   "outputs": [],
   "source": [
    "# Get current connection info\n",
    "query = \"\"\"\n",
    "SELECT \n",
    "    CURRENT_TIMESTAMP() as current_time,\n",
    "    CURRENT_USER() as user,\n",
    "    CURRENT_DATABASE() as database,\n",
    "    CURRENT_SCHEMA() as schema,\n",
    "    CURRENT_WAREHOUSE() as warehouse,\n",
    "    CURRENT_ROLE() as role\n",
    "\"\"\"\n",
    "df_info = sf.query_to_dataframe(query)\n",
    "df_info\n"
   ]
  },
  {
   "cell_type": "code",
   "execution_count": 4,
   "metadata": {},
   "outputs": [
    {
     "name": "stderr",
     "output_type": "stream",
     "text": [
      "ERROR:snowflake_connector:Failed to create DataFrame from query: 'NoneType' object has no attribute 'execute'\n"
     ]
    },
    {
     "ename": "AttributeError",
     "evalue": "'NoneType' object has no attribute 'execute'",
     "output_type": "error",
     "traceback": [
      "\u001b[31m---------------------------------------------------------------------------\u001b[39m",
      "\u001b[31mAttributeError\u001b[39m                            Traceback (most recent call last)",
      "\u001b[36mCell\u001b[39m\u001b[36m \u001b[39m\u001b[32mIn[4]\u001b[39m\u001b[32m, line 8\u001b[39m\n\u001b[32m      1\u001b[39m \u001b[38;5;66;03m# Example: Query from FACT_DEDUP_EXPERIMENT_EXPOSURE table\u001b[39;00m\n\u001b[32m      2\u001b[39m query = \u001b[33m\"\"\"\u001b[39m\n\u001b[32m      3\u001b[39m \u001b[33mSELECT * \u001b[39m\n\u001b[32m      4\u001b[39m \u001b[33mFROM PRODDB.PUBLIC.FACT_DEDUP_EXPERIMENT_EXPOSURE \u001b[39m\n\u001b[32m      5\u001b[39m \u001b[33mLIMIT 10\u001b[39m\n\u001b[32m      6\u001b[39m \u001b[33m\"\"\"\u001b[39m\n\u001b[32m----> \u001b[39m\u001b[32m8\u001b[39m df = \u001b[43msf\u001b[49m\u001b[43m.\u001b[49m\u001b[43mquery_to_dataframe\u001b[49m\u001b[43m(\u001b[49m\u001b[43mquery\u001b[49m\u001b[43m)\u001b[49m\n\u001b[32m      9\u001b[39m \u001b[38;5;28mprint\u001b[39m(\u001b[33mf\u001b[39m\u001b[33m\"\u001b[39m\u001b[33mRetrieved \u001b[39m\u001b[38;5;132;01m{\u001b[39;00m\u001b[38;5;28mlen\u001b[39m(df)\u001b[38;5;132;01m}\u001b[39;00m\u001b[33m rows with \u001b[39m\u001b[38;5;132;01m{\u001b[39;00m\u001b[38;5;28mlen\u001b[39m(df.columns)\u001b[38;5;132;01m}\u001b[39;00m\u001b[33m columns\u001b[39m\u001b[33m\"\u001b[39m)\n\u001b[32m     10\u001b[39m df.head()\n",
      "\u001b[36mFile \u001b[39m\u001b[32m~/Projects/hackathon2025-ai-agent-for-genai-notification/snowflake_connector.py:135\u001b[39m, in \u001b[36mSnowflakeConnector.query_to_dataframe\u001b[39m\u001b[34m(self, query, params)\u001b[39m\n\u001b[32m    133\u001b[39m     \u001b[38;5;28mself\u001b[39m.cursor.execute(query, params)\n\u001b[32m    134\u001b[39m \u001b[38;5;28;01melse\u001b[39;00m:\n\u001b[32m--> \u001b[39m\u001b[32m135\u001b[39m     \u001b[38;5;28;43mself\u001b[39;49m\u001b[43m.\u001b[49m\u001b[43mcursor\u001b[49m\u001b[43m.\u001b[49m\u001b[43mexecute\u001b[49m(query)\n\u001b[32m    137\u001b[39m \u001b[38;5;66;03m# Fetch results and column names\u001b[39;00m\n\u001b[32m    138\u001b[39m results = \u001b[38;5;28mself\u001b[39m.cursor.fetchall()\n",
      "\u001b[31mAttributeError\u001b[39m: 'NoneType' object has no attribute 'execute'"
     ]
    }
   ],
   "source": [
    "# Example: Query from FACT_DEDUP_EXPERIMENT_EXPOSURE table\n",
    "query = \"\"\"\n",
    "SELECT * \n",
    "FROM PRODDB.PUBLIC.FACT_DEDUP_EXPERIMENT_EXPOSURE \n",
    "LIMIT 10\n",
    "\"\"\"\n",
    "\n",
    "df = sf.query_to_dataframe(query)\n",
    "print(f\"Retrieved {len(df)} rows with {len(df.columns)} columns\")\n",
    "df.head()\n"
   ]
  },
  {
   "cell_type": "markdown",
   "metadata": {},
   "source": [
    "## 5. Data Exploration and Analysis\n"
   ]
  },
  {
   "cell_type": "code",
   "execution_count": null,
   "metadata": {},
   "outputs": [],
   "source": [
    "# Basic statistics\n",
    "# df.describe()\n"
   ]
  },
  {
   "cell_type": "code",
   "execution_count": null,
   "metadata": {},
   "outputs": [],
   "source": [
    "# Check for missing values\n",
    "# df.isnull().sum()\n"
   ]
  },
  {
   "cell_type": "code",
   "execution_count": null,
   "metadata": {},
   "outputs": [],
   "source": [
    "# Data types\n",
    "# df.dtypes\n"
   ]
  },
  {
   "cell_type": "markdown",
   "metadata": {},
   "source": [
    "## 6. Data Visualization Examples\n"
   ]
  },
  {
   "cell_type": "code",
   "execution_count": null,
   "metadata": {},
   "outputs": [],
   "source": [
    "# Example: Bar chart\n",
    "# plt.figure(figsize=(12, 6))\n",
    "# df['column_name'].value_counts().head(10).plot(kind='bar')\n",
    "# plt.title('Top 10 Categories')\n",
    "# plt.xlabel('Category')\n",
    "# plt.ylabel('Count')\n",
    "# plt.xticks(rotation=45)\n",
    "# plt.tight_layout()\n",
    "# plt.show()\n"
   ]
  },
  {
   "cell_type": "code",
   "execution_count": null,
   "metadata": {},
   "outputs": [],
   "source": [
    "# Example: Line chart with Plotly\n",
    "# fig = px.line(df, x='date_column', y='value_column', title='Trend Over Time')\n",
    "# fig.show()\n"
   ]
  },
  {
   "cell_type": "code",
   "execution_count": null,
   "metadata": {},
   "outputs": [],
   "source": [
    "# Example: Correlation heatmap\n",
    "# numeric_cols = df.select_dtypes(include=[np.number]).columns\n",
    "# correlation_matrix = df[numeric_cols].corr()\n",
    "# \n",
    "# plt.figure(figsize=(10, 8))\n",
    "# sns.heatmap(correlation_matrix, annot=True, cmap='coolwarm', center=0)\n",
    "# plt.title('Correlation Matrix')\n",
    "# plt.tight_layout()\n",
    "# plt.show()\n"
   ]
  },
  {
   "cell_type": "markdown",
   "metadata": {},
   "source": [
    "## 7. Advanced Analytics Examples\n"
   ]
  },
  {
   "cell_type": "code",
   "execution_count": null,
   "metadata": {},
   "outputs": [],
   "source": [
    "# Example: Aggregation query\n",
    "# query = \"\"\"\n",
    "# SELECT \n",
    "#     category,\n",
    "#     COUNT(*) as count,\n",
    "#     AVG(value) as avg_value,\n",
    "#     SUM(amount) as total_amount\n",
    "# FROM your_table\n",
    "# GROUP BY category\n",
    "# ORDER BY count DESC\n",
    "# \"\"\"\n",
    "# df_agg = sf.query_to_dataframe(query)\n",
    "# df_agg\n"
   ]
  },
  {
   "cell_type": "code",
   "execution_count": null,
   "metadata": {},
   "outputs": [],
   "source": [
    "# Example: Time-based analysis\n",
    "# query = \"\"\"\n",
    "# SELECT \n",
    "#     DATE_TRUNC('day', timestamp_column) as date,\n",
    "#     COUNT(*) as daily_count,\n",
    "#     SUM(amount) as daily_total\n",
    "# FROM your_table\n",
    "# WHERE timestamp_column >= DATEADD(day, -30, CURRENT_DATE())\n",
    "# GROUP BY date\n",
    "# ORDER BY date\n",
    "# \"\"\"\n",
    "# df_time = sf.query_to_dataframe(query)\n",
    "# df_time\n"
   ]
  },
  {
   "cell_type": "markdown",
   "metadata": {},
   "source": [
    "## 8. Export Results\n"
   ]
  },
  {
   "cell_type": "markdown",
   "metadata": {},
   "source": [
    "en"
   ]
  },
  {
   "cell_type": "code",
   "execution_count": null,
   "metadata": {},
   "outputs": [],
   "source": [
    "# Export to CSV\n",
    "# df.to_csv('output_data.csv', index=False)\n",
    "# print(\"✅ Data exported to output_data.csv\")\n"
   ]
  },
  {
   "cell_type": "code",
   "execution_count": null,
   "metadata": {},
   "outputs": [],
   "source": [
    "# Export to Excel\n",
    "# df.to_excel('output_data.xlsx', index=False)\n",
    "# print(\"✅ Data exported to output_data.xlsx\")\n"
   ]
  },
  {
   "cell_type": "markdown",
   "metadata": {},
   "source": [
    "## 9. Close Connection\n"
   ]
  },
  {
   "cell_type": "code",
   "execution_count": null,
   "metadata": {},
   "outputs": [],
   "source": [
    "# Close the Snowflake connection\n",
    "sf.close()\n",
    "print(\"✅ Connection closed\")\n"
   ]
  }
 ],
 "metadata": {
  "kernelspec": {
   "display_name": "Python 3 (ipykernel)",
   "language": "python",
   "name": "python3"
  },
  "language_info": {
   "codemirror_mode": {
    "name": "ipython",
    "version": 3
   },
   "file_extension": ".py",
   "mimetype": "text/x-python",
   "name": "python",
   "nbconvert_exporter": "python",
   "pygments_lexer": "ipython3",
   "version": "3.13.3"
  }
 },
 "nbformat": 4,
 "nbformat_minor": 4
}
